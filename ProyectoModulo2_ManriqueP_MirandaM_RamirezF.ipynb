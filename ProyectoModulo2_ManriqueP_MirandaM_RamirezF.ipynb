{
 "cells": [
  {
   "cell_type": "markdown",
   "metadata": {},
   "source": [
    "# Proyecto 2. MODELO DEL PRINCIPIO DE EXCLUSIÓN COMPETITIVA\n",
    "<img style=\"float: right; margin: 0px 0px 15px 15px;\" src=\"https://upload.wikimedia.org/wikipedia/commons/5/56/Competitive-20Exclusion-20Principle.svg\" width=\"300px\" height=\"400px\" />\n",
    "\n",
    "Simulación Matemática.\n",
    "# <font color=\"PURPLE\">**INTEGRANTES:**</font>\n",
    "\n",
    "* <font color=\"red\">**INTEGRANTE 1 :**</font> Marcos Ortíz Tirado Miranda.\n",
    "* <font color=\"red\">**INTEGRANTE 2 :**</font> Paulina Milenka Glez Manrique.\n",
    "* <font color=\"red\">**INTEGRANTE 3 :**</font>  Francisco Ricardo Rodríguez Ramírez\n",
    "\n",
    "\n",
    "\n",
    "<font color=\"red\">**Repositorio remoto del integrante 1 :**</font> https://github.com/marcosotm/Proyecto_Modulo2"
   ]
  },
  {
   "cell_type": "markdown",
   "metadata": {},
   "source": [
    "## 1.2 Objetivos.\n",
    "\n",
    "#### 1.2.1 Objetivo general.\n",
    "\n",
    ">Analizar el comportamiento de un modelo ecológico llamado principio de exclusión competitiva a través de las ecuaciones diferenciales para tomar decisiones en base a los resultados obtenidos. \n",
    "El modelo describe el comportamiento de dos especies que compiten en un mismo habitat por los recursos\n",
    "disponibles. El análisis se centra fundamentalmente en el estudio cualitativo de los\n",
    "sistemas que modelan las distintas situaciones.\n",
    "\n",
    "\n",
    "#### 1.2.2 Objetivo específico.\n",
    "\n",
    ">Se pretende analizar dos especies: levaduras Saccharomyces cerevisiae y Schizosaccharommyces Kephirc  para un lugar específico del espacio que en este caso es una cerveza y ver cuál de las dos sobrevive con distintas condiciones iniciales.\n"
   ]
  },
  {
   "cell_type": "markdown",
   "metadata": {
    "collapsed": true
   },
   "source": [
    " ###  <font color = \"blue\" > **Norma ecológica: **</font> Afirma que dos especies no pueden ocupar un mismo nicho ecológico en el mismo hábitat al mismo tiempo\n",
    " \n",
    " Es una proposición que declara que dos especies en competencia biológica por los mismos recursos no puede coexistir en forma estable si los demás factores ecológicos permanecen constantes. Uno de los competidores siempre dominará al otro, llevándolo a la extinción o a una modificación evolutiva o de comportamiento hacia otro nicho ecológico.\n",
    " \n",
    " ## <font color = \"green\" > Levadura de cerveza\n",
    " \n",
    "<img style=\"float: right; margin: 0px 0px 15px 15px;\" src=\"https://upload.wikimedia.org/wikipedia/commons/d/d9/S_cerevisiae_under_DIC_microscopy.jpg\" width=\"200px\" height=\"200px\"/>\n",
    "\n",
    "Es un hongo unicelular, utilizado industrialmente en la fabricación de pan, cerveza y vino. En su ciclo de vida alternan dos formas, una haploide y otra diploide. Ambas formas se reproducen de forma asexual por gemación. En condiciones muy determinadas la forma diploide es capaz de reproducirse sexualmente. En estos casos se produce la meiosis en la célula formándose un asca que contiene cuatro ascosporas haploides.\n",
    "La incapacidad para utilizar nitratos y la capacidad de fermentar varios carbohidratos son las características típicas de los Saccharomyces. Sus colonias pueden crecer y madurar en 3 días y muestran un color amarillo oscuro. Muchos miembros de este género se consideran muy importantes en la producción de alimentos.\n"
   ]
  },
  {
   "cell_type": "code",
   "execution_count": null,
   "metadata": {
    "collapsed": true
   },
   "outputs": [],
   "source": []
  },
  {
   "cell_type": "code",
   "execution_count": null,
   "metadata": {
    "collapsed": true
   },
   "outputs": [],
   "source": []
  },
  {
   "cell_type": "code",
   "execution_count": null,
   "metadata": {
    "collapsed": true
   },
   "outputs": [],
   "source": []
  }
 ],
 "metadata": {
  "kernelspec": {
   "display_name": "Python 3",
   "language": "python",
   "name": "python3"
  },
  "language_info": {
   "codemirror_mode": {
    "name": "ipython",
    "version": 3
   },
   "file_extension": ".py",
   "mimetype": "text/x-python",
   "name": "python",
   "nbconvert_exporter": "python",
   "pygments_lexer": "ipython3",
   "version": "3.6.3"
  }
 },
 "nbformat": 4,
 "nbformat_minor": 2
}
